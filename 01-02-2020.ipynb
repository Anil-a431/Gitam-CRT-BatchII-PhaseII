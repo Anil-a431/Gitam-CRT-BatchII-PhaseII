{
 "cells": [
  {
   "cell_type": "code",
   "execution_count": null,
   "metadata": {},
   "outputs": [],
   "source": [
    "Input:-\n",
    "4\n",
    "19 2 1 24\n",
    "8  1  3 1\n",
    "7  6 2  3\n",
    "1 2 3 4 \n",
    "Output:-\n",
    "24 8 7 4"
   ]
  },
  {
   "cell_type": "code",
   "execution_count": null,
   "metadata": {},
   "outputs": [],
   "source": [
    "#include<stdio.h>\n",
    "int main()\n",
    "{\n",
    "\tint r,c,a[10][10],n,x;\n",
    "\tscanf(\"%d\",&n);\n",
    "\tfor(r=0;r<n;r++){\n",
    "\t\tfor(c=0;c<n;c++){\n",
    "\t\t\tscanf(\"%d\",&a[r][c]);\n",
    "\t\t}\n",
    "\t}\n",
    "\tfor(r=0;r<n;r++){\n",
    "\t\tx = a[r][0];//Each row first col value\n",
    "\t\tfor(c=0;c<n;c++){\n",
    "\t\t\tif(x<a[r][c]){\n",
    "\t\t\t\tx = a[r][c];\n",
    "\t\t\t}\n",
    "\t\t}\n",
    "\t\tprintf(\"%d \",x);\n",
    "\t}\n",
    "\treturn 0;\n",
    "}"
   ]
  },
  {
   "cell_type": "code",
   "execution_count": null,
   "metadata": {},
   "outputs": [],
   "source": [
    "Input:-\n",
    "4\n",
    "19 2 1 24\n",
    "8  1  3 1\n",
    "7  6 2  3\n",
    "1 2 3 4 \n",
    "Output:-\n",
    "24 , 8 , 7 , 4"
   ]
  },
  {
   "cell_type": "code",
   "execution_count": null,
   "metadata": {},
   "outputs": [],
   "source": [
    "#include<stdio.h>\n",
    "int main()\n",
    "{\n",
    "\tint r,c,a[10][10],n,x;\n",
    "\tscanf(\"%d\",&n);\n",
    "\tfor(r=0;r<n;r++){\n",
    "\t\tfor(c=0;c<n;c++){\n",
    "\t\t\tscanf(\"%d\",&a[r][c]);\n",
    "\t\t}\n",
    "\t}\n",
    "\tfor(r=0;r<n;r++){\n",
    "\t\tx = a[r][0];//Each row first col value\n",
    "\t\tfor(c=0;c<n;c++){\n",
    "\t\t\tif(x<a[r][c]){\n",
    "\t\t\t\tx = a[r][c];\n",
    "\t\t\t}\n",
    "\t\t}\n",
    "\t\tif(r != n-1){\n",
    "\t\t\tprintf(\"%d,\",x);\n",
    "\t\t}\n",
    "\t\telse{\n",
    "\t\t\tprintf(\"%d\",x);\n",
    "\t\t}\n",
    "\t}\n",
    "\treturn 0;\n",
    "}"
   ]
  },
  {
   "cell_type": "code",
   "execution_count": null,
   "metadata": {},
   "outputs": [],
   "source": []
  },
  {
   "cell_type": "code",
   "execution_count": null,
   "metadata": {},
   "outputs": [],
   "source": [
    "#include<stdio.h>\n",
    "int main()\n",
    "{\n",
    "\tchar x[100];\n",
    "\tx[0] = 'a';\n",
    "\tx[1] = 'p';\n",
    "\tx[2] = 'p';\n",
    "\tx[3] = '\\0';\n",
    "\tprintf(\"%s\",x);\n",
    "\treturn 0;\n",
    "} "
   ]
  },
  {
   "cell_type": "code",
   "execution_count": null,
   "metadata": {},
   "outputs": [],
   "source": [
    "#include<stdio.h>\n",
    "int main()\n",
    "{\n",
    "\tchar *x;\n",
    "\tx = \"Application\";\n",
    "\tprintf(\"%s\",x);\n",
    "\treturn 0;\n",
    "} "
   ]
  },
  {
   "cell_type": "code",
   "execution_count": null,
   "metadata": {},
   "outputs": [],
   "source": [
    "1. application -- 11(Find out len"
   ]
  },
  {
   "cell_type": "code",
   "execution_count": null,
   "metadata": {},
   "outputs": [],
   "source": [
    "#include<stdio.h>\n",
    "int main()\n",
    "{\n",
    "\tint i,len=0;\n",
    "\tchar x[100];\n",
    "\tscanf(\"%[^\\n]s\",x);\n",
    "\tfor(i=0;x[i]!='\\0';i++){\n",
    "\t\tlen++;\n",
    "\t}\n",
    "\tprintf(\"%d\",len);\n",
    "\treturn 0;\n",
    "} "
   ]
  },
  {
   "cell_type": "code",
   "execution_count": null,
   "metadata": {},
   "outputs": [],
   "source": [
    "2. AppliCATion -- U : 4 L : 7"
   ]
  },
  {
   "cell_type": "code",
   "execution_count": null,
   "metadata": {},
   "outputs": [],
   "source": [
    "#include<stdio.h>\n",
    "int main()\n",
    "{\n",
    "\tint i,len=0,uCnt=0,lCnt=0;\n",
    "\tchar x[100];\n",
    "\tscanf(\"%[^\\n]s\",x);\n",
    "\tfor(i=0;x[i]!='\\0';i++){\n",
    "\t\tlen++;\n",
    "\t}\n",
    "\tfor(i=0;i<len;i++){\n",
    "\t\tif(x[i]>=65 && x[i]<=90){\n",
    "\t\t\tuCnt++;\n",
    "\t\t}\n",
    "\t\telse if(x[i]>= 97 && x[i]<=122){\n",
    "\t\t\tlCnt++;\n",
    "\t\t}\n",
    "\t}\n",
    "\tprintf(\"U : %d L : %d\",uCnt,lCnt);\n",
    "\treturn 0;\n",
    "} "
   ]
  },
  {
   "cell_type": "code",
   "execution_count": null,
   "metadata": {},
   "outputs": [],
   "source": [
    "3. AppliCATion -- aPPLIcatION (Change the case)"
   ]
  },
  {
   "cell_type": "code",
   "execution_count": null,
   "metadata": {},
   "outputs": [],
   "source": [
    "#include<stdio.h>\n",
    "int main()\n",
    "{\n",
    "\tint i,len=0,uCnt=0,lCnt=0;\n",
    "\tchar x[100];\n",
    "\tscanf(\"%[^\\n]s\",x);\n",
    "\tfor(i=0;x[i]!='\\0';i++){\n",
    "\t\tlen++;\n",
    "\t}\n",
    "\tfor(i=0;i<len;i++){\n",
    "\t\tif(x[i]>=65 && x[i]<=90){\n",
    "\t\t\tx[i] = x[i] + 32;\n",
    "\t\t}\n",
    "\t\telse if(x[i]>= 97 && x[i]<=122){\n",
    "\t\t\tx[i] = x[i] - 32;\n",
    "\t\t}\n",
    "\t}\n",
    "\tprintf(\"%s\",x);\n",
    "\treturn 0;\n",
    "} "
   ]
  },
  {
   "cell_type": "code",
   "execution_count": null,
   "metadata": {},
   "outputs": [],
   "source": [
    "#include<stdio.h>\n",
    "#include<string.h>\n",
    "int main()\n",
    "{\n",
    "\tchar x[100];\n",
    "\tint i,len,k,s=0;\n",
    "\tscanf(\"%[^\\n]s\",x);\n",
    "\tlen = strlen(x);\n",
    "\tfor(i=0;i<len;i++){\n",
    "\t\tif(x[i]>=48 && x[i]<=57){\n",
    "\t\t\t//convert from Ascii to decimal\n",
    "\t\t\tk = x[i]-48;\n",
    "\t\t\tif(k%2==0){\n",
    "\t\t\t\ts += k;//s = s + k\n",
    "\t\t\t}\n",
    "\t\t}\n",
    "\t}\n",
    "\tprintf(\"%d\",s);\n",
    "\t\n",
    "\treturn 0;\n",
    "} "
   ]
  },
  {
   "cell_type": "code",
   "execution_count": null,
   "metadata": {},
   "outputs": [],
   "source": [
    "5. orange -- puboif\n",
    "   mango  -- oboip"
   ]
  },
  {
   "cell_type": "code",
   "execution_count": null,
   "metadata": {},
   "outputs": [],
   "source": [
    "#include<stdio.h>\n",
    "#include<string.h>\n",
    "int main()\n",
    "{\n",
    "\tint i,len;\n",
    "\tchar x[100];\n",
    "\tscanf(\"%s\",x);\n",
    "\tlen = strlen(x);\n",
    "\tfor(i=0;i<len;i++){\n",
    "\t\tif(x[i]==97 || x[i] == 101 || x[i] == 105 || x[i] == 111 || x[i] == 117){\n",
    "\t\t\tprintf(\"%c\",x[i]+1);\n",
    "\t\t}\n",
    "\t\telse if(x[i] > 97 && x[i] < 101){\n",
    "\t\t\tprintf(\"e\");\n",
    "\t\t}\n",
    "\t\telse if(x[i] > 101 && x[i] < 105){\n",
    "\t\t\tprintf(\"i\");\n",
    "\t\t}\n",
    "\t\telse if(x[i] > 105 && x[i] < 111){\n",
    "\t\t\tprintf(\"o\");\n",
    "\t\t}\n",
    "\t\telse if(x[i] > 111 && x[i] < 117){\n",
    "\t\t\tprintf(\"u\");\n",
    "\t\t}\n",
    "\t\telse if(x[i] > 117 && x[i] <= 122){\n",
    "\t\t\tprintf(\"a\");\n",
    "\t\t}\n",
    "\t}\n",
    "\treturn 0;\n",
    "}"
   ]
  },
  {
   "cell_type": "code",
   "execution_count": null,
   "metadata": {},
   "outputs": [],
   "source": [
    "6. abc xyz -- axbycz\n",
    "   abcd xy -- axbycd\n",
    "   ab xyza -- axbyza\n"
   ]
  },
  {
   "cell_type": "code",
   "execution_count": null,
   "metadata": {},
   "outputs": [],
   "source": [
    "#include<stdio.h>\n",
    "#include<string.h>\n",
    "int main()\n",
    "{\n",
    "\tint l1,l2,i;\n",
    "\tchar s1[100],s2[100];\n",
    "\tscanf(\"%s%s\",s1,s2);\n",
    "\tl1 = strlen(s1);\n",
    "\tl2 = strlen(s2);\n",
    "\tif(l1==l2){\n",
    "\t\tfor(i=0;i<l1;i++){\n",
    "\t\t\tprintf(\"%c%c\",s1[i],s2[i]);\n",
    "\t\t}\n",
    "\t}\n",
    "\telse if(l1>l2){\n",
    "\t\tfor(i=0;i<l2;i++){\n",
    "\t\t\tprintf(\"%c%c\",s1[i],s2[i]);\n",
    "\t\t}\n",
    "\t\tfor(i=l2;i<l1;i++){\n",
    "\t\t\tprintf(\"%c\",s1[i]);\n",
    "\t\t}\n",
    "\t}\n",
    "\telse if(l2>l1){\n",
    "\t\tfor(i=0;i<l1;i++){\n",
    "\t\t\tprintf(\"%c%c\",s1[i],s2[i]);\n",
    "\t\t}\n",
    "\t\tfor(i=l1;i<l2;i++){\n",
    "\t\t\tprintf(\"%c\",s2[i]);\n",
    "\t\t}\n",
    "\t}\n",
    "\treturn 0;\n",
    "}"
   ]
  },
  {
   "cell_type": "code",
   "execution_count": null,
   "metadata": {},
   "outputs": [],
   "source": [
    "\n"
   ]
  },
  {
   "cell_type": "code",
   "execution_count": null,
   "metadata": {},
   "outputs": [],
   "source": []
  },
  {
   "cell_type": "code",
   "execution_count": null,
   "metadata": {},
   "outputs": [],
   "source": []
  },
  {
   "cell_type": "code",
   "execution_count": null,
   "metadata": {},
   "outputs": [],
   "source": [
    "\n"
   ]
  },
  {
   "cell_type": "code",
   "execution_count": null,
   "metadata": {},
   "outputs": [],
   "source": []
  },
  {
   "cell_type": "code",
   "execution_count": null,
   "metadata": {},
   "outputs": [],
   "source": []
  },
  {
   "cell_type": "code",
   "execution_count": null,
   "metadata": {},
   "outputs": [],
   "source": []
  },
  {
   "cell_type": "code",
   "execution_count": null,
   "metadata": {},
   "outputs": [],
   "source": [
    "\n"
   ]
  }
 ],
 "metadata": {
  "kernelspec": {
   "display_name": "Python 3",
   "language": "python",
   "name": "python3"
  },
  "language_info": {
   "codemirror_mode": {
    "name": "ipython",
    "version": 3
   },
   "file_extension": ".py",
   "mimetype": "text/x-python",
   "name": "python",
   "nbconvert_exporter": "python",
   "pygments_lexer": "ipython3",
   "version": "3.7.4"
  }
 },
 "nbformat": 4,
 "nbformat_minor": 2
}
