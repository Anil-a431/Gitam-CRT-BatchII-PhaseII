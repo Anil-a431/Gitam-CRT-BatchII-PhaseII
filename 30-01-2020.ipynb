{
 "cells": [
  {
   "cell_type": "code",
   "execution_count": null,
   "metadata": {},
   "outputs": [],
   "source": [
    "Function Basics"
   ]
  },
  {
   "cell_type": "code",
   "execution_count": null,
   "metadata": {},
   "outputs": [],
   "source": [
    "#include<stdio.h>\n",
    "//Function without Parameters and without return value\n",
    "void print()\n",
    "{\n",
    "\tprintf(\"\\n Hello \");\n",
    "}\n",
    "//Function having parameters and no return value\n",
    "void square(int a){\n",
    "\tprintf(\"\\n Square = %d\",a*a);\n",
    "}\n",
    "//Function without parameter and have return value\n",
    "int return_value(){\n",
    "\treturn 1000;\n",
    "}\n",
    "//Function with parameters and return value\n",
    "int cube(int a){\n",
    "\treturn a*a*a;\n",
    "}\n",
    "\n",
    "int main(){\n",
    "\tint x;\n",
    "\tprint();\n",
    "\tsquare(10);\n",
    "\tx = return_value();\n",
    "\tprintf(\"\\n x  = %d\",x);\n",
    "\tprintf(\"\\n%d\",cube(5));\n",
    "\treturn 0;\n",
    "}"
   ]
  },
  {
   "cell_type": "code",
   "execution_count": null,
   "metadata": {},
   "outputs": [],
   "source": [
    "Array Basics\n",
    "Arrays:-\n",
    "--------\n",
    "\tWhy Arrays ?\n",
    "\t\n",
    "\t1. User defined Datatype\n",
    "\t2. Array will have continous memory\n",
    "\t3. It only stores same type of Data\n",
    "\t4. Can be defined as \n",
    "\t\tDatatype ArrayName[Size];\n",
    "\t\tSize -- Const int number\n",
    "\t\tint x[100];"
   ]
  },
  {
   "cell_type": "code",
   "execution_count": null,
   "metadata": {},
   "outputs": [],
   "source": [
    "1.\n",
    "Input:-\n",
    "5\n",
    "19 3 25 1 -8\n",
    "Output:-\n",
    "<-8,25>"
   ]
  },
  {
   "cell_type": "code",
   "execution_count": null,
   "metadata": {},
   "outputs": [],
   "source": []
  },
  {
   "cell_type": "code",
   "execution_count": null,
   "metadata": {},
   "outputs": [],
   "source": [
    "2.\n",
    "Input:-\n",
    "7\n",
    "1 0 1 1 0 0 1\n",
    "Output:-\n",
    "1 1 1 1 0 0 0"
   ]
  },
  {
   "cell_type": "code",
   "execution_count": null,
   "metadata": {},
   "outputs": [],
   "source": [
    "#include<stdio.h>\n",
    "int main()\n",
    "{\n",
    "\tint a[100],n,i,oCnt=0;\n",
    "\tscanf(\"%d\",&n);\n",
    "\tfor(i=0;i<n;i++){\n",
    "\t\tscanf(\"%d\",&a[i]);\n",
    "\t}\n",
    "\tfor(i=0;i<n;i++){\n",
    "\t\tif(a[i]==1){\n",
    "\t\t\toCnt++;\n",
    "\t\t}\n",
    "\t}\n",
    "\tfor(i=0;i<n;i++){\n",
    "\t\tif(i<oCnt){\n",
    "\t\t\tprintf(\"1 \");\n",
    "\t\t}\n",
    "\t\telse{\n",
    "\t\t\tprintf(\"0 \");\n",
    "\t\t}\n",
    "\t}\n",
    "\treturn 0;\n",
    "}"
   ]
  },
  {
   "cell_type": "code",
   "execution_count": null,
   "metadata": {},
   "outputs": [],
   "source": [
    "#include<stdio.h>\n",
    "int main()\n",
    "{\n",
    "\tint a[100],n,i,oCnt=0;\n",
    "\tscanf(\"%d\",&n);\n",
    "\tfor(i=0;i<n;i++){\n",
    "\t\tscanf(\"%d\",&a[i]);\n",
    "\t\tif(a[i]==1){\n",
    "\t\t\toCnt++;\n",
    "\t\t}\n",
    "\t}\n",
    "\tfor(i=0;i<n;i++){\n",
    "\t\tif(i<oCnt){\n",
    "\t\t\tprintf(\"1 \");\n",
    "\t\t}\n",
    "\t\telse{\n",
    "\t\t\tprintf(\"0 \");\n",
    "\t\t}\n",
    "\t}\n",
    "\treturn 0;\n",
    "}"
   ]
  },
  {
   "cell_type": "code",
   "execution_count": null,
   "metadata": {},
   "outputs": [],
   "source": [
    "3.\n",
    "Input:-\n",
    "5\n",
    "3 1 4 3 6\n",
    "Output:-\n",
    "3 12 3 24 6\n"
   ]
  },
  {
   "cell_type": "code",
   "execution_count": null,
   "metadata": {},
   "outputs": [],
   "source": [
    "#include<stdio.h>\n",
    "int main()\n",
    "{\n",
    "\tint a[100],n,i;\n",
    "\tscanf(\"%d\",&n);\n",
    "\tfor(i=0;i<n;i++){\n",
    "\t\tscanf(\"%d\",&a[i]);\n",
    "\t}\n",
    "\tfor(i=0;i<n;i++){\n",
    "\t\tif(i == 0 || i == n-1){\n",
    "\t\t\tprintf(\"%d \",a[i]);\n",
    "\t\t}\n",
    "\t\telse{\n",
    "\t\t\tprintf(\"%d \",a[i-1]*a[i+1]);\n",
    "\t\t}\n",
    "\t}\n",
    "\treturn 0;\n",
    "}"
   ]
  },
  {
   "cell_type": "code",
   "execution_count": null,
   "metadata": {},
   "outputs": [],
   "source": [
    "4.\n",
    "Input:-\n",
    "1889\n",
    "Output:-\n",
    "One Eight Eight Nine"
   ]
  },
  {
   "cell_type": "code",
   "execution_count": null,
   "metadata": {},
   "outputs": [],
   "source": [
    "#include<stdio.h>\n",
    "int main()\n",
    "{\n",
    "\tint a[100],n=0,i;\n",
    "\tlong x;\n",
    "\tscanf(\"%ld\",&x);\n",
    "\twhile(x!=0){\n",
    "\t\ta[n] = x % 10;\n",
    "\t\tx /= 10;\n",
    "\t\tn++;\n",
    "\t}\n",
    "\tfor(i=n-1;i>=0;i--){\n",
    "\t\tswitch(a[i]){\n",
    "\t\t\tcase 0 : printf(\"Zero \");\n",
    "\t\t\tbreak;\n",
    "\t\t\tcase 1 : printf(\"One \");\n",
    "\t\t\tbreak;\n",
    "\t\t\tcase 2 : printf(\"Two \");\n",
    "\t\t\tbreak;\n",
    "\t\t\tcase 3 : printf(\"Three \");\n",
    "\t\t\tbreak;\n",
    "\t\t\tcase 4 : printf(\"Four \");\n",
    "\t\t\tbreak;\n",
    "\t\t\tcase 5 : printf(\"Five \");\n",
    "\t\t\tbreak;\n",
    "\t\t\tcase 6 : printf(\"Six \");\n",
    "\t\t\tbreak;\n",
    "\t\t\tcase 7 : printf(\"Seven \");\n",
    "\t\t\tbreak;\n",
    "\t\t\tcase 8 : printf(\"Eight \");\n",
    "\t\t\tbreak;\n",
    "\t\t\tcase 9 : printf(\"Nine \");\n",
    "\t\t\tbreak;\n",
    "\t\t}\n",
    "\t}\n",
    "\treturn 0;\n",
    "}"
   ]
  },
  {
   "cell_type": "code",
   "execution_count": null,
   "metadata": {},
   "outputs": [],
   "source": [
    "5.\n",
    "Input:-\n",
    "138252\n",
    "Output:-\n",
    "1 5 2"
   ]
  },
  {
   "cell_type": "code",
   "execution_count": null,
   "metadata": {},
   "outputs": [],
   "source": [
    "#include<stdio.h>\n",
    "int main()\n",
    "{\n",
    "\tint a[100],n=0,i;\n",
    "\tlong x;\n",
    "\tscanf(\"%ld\",&x);\n",
    "\twhile(x!=0){\n",
    "\t\ta[n] = x % 10;\n",
    "\t\tx /= 10;\n",
    "\t\tn++;\n",
    "\t}\n",
    "\tfor(i=n-1;i>=0;i--){\n",
    "\t\tif(i == 0 || i == n-1){\n",
    "\t\t\tprintf(\"%d \",a[i]);\n",
    "\t\t}\n",
    "\t\telse if(a[i-1]%2==0 && a[i+1]%2==0){\n",
    "\t\t\tprintf(\"%d \",a[i]);\n",
    "\t\t}\n",
    "\t}\n",
    "\treturn 0;\n",
    "}"
   ]
  },
  {
   "cell_type": "code",
   "execution_count": null,
   "metadata": {},
   "outputs": [],
   "source": [
    "6.\n",
    "Input:-\n",
    "12345\n",
    "Output:-\n",
    "135"
   ]
  },
  {
   "cell_type": "code",
   "execution_count": null,
   "metadata": {},
   "outputs": [],
   "source": [
    "#include<stdio.h>\n",
    "int main()\n",
    "{\n",
    "\tint a[100],n=0,i,output=0;\n",
    "\tlong x;\n",
    "\tscanf(\"%ld\",&x);\n",
    "\twhile(x!=0){\n",
    "\t\ta[n] = x % 10;\n",
    "\t\tx /= 10;\n",
    "\t\tn++;\n",
    "\t}\n",
    "\tfor(i=n-1;i>=0;i--){\n",
    "\t\tif(i%2==0){\n",
    "\t\t\toutput = output*10 + a[i];\n",
    "\t\t}\n",
    "\t}\n",
    "\tprintf(\"%d \",output);\n",
    "\treturn 0;\n",
    "}"
   ]
  }
 ],
 "metadata": {
  "kernelspec": {
   "display_name": "Python 3",
   "language": "python",
   "name": "python3"
  },
  "language_info": {
   "codemirror_mode": {
    "name": "ipython",
    "version": 3
   },
   "file_extension": ".py",
   "mimetype": "text/x-python",
   "name": "python",
   "nbconvert_exporter": "python",
   "pygments_lexer": "ipython3",
   "version": "3.7.4"
  }
 },
 "nbformat": 4,
 "nbformat_minor": 2
}
